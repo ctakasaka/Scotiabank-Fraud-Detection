{
  "nbformat": 4,
  "nbformat_minor": 0,
  "metadata": {
    "colab": {
      "provenance": []
    },
    "kernelspec": {
      "name": "python3",
      "display_name": "Python 3"
    },
    "language_info": {
      "name": "python"
    }
  },
  "cells": [
    {
      "cell_type": "code",
      "source": [
        "%pip install kmodes"
      ],
      "metadata": {
        "colab": {
          "base_uri": "https://localhost:8080/"
        },
        "id": "cTHz8GbVCtyC",
        "outputId": "e56f10af-995f-4ed8-d42b-b19e0abf268b"
      },
      "execution_count": null,
      "outputs": [
        {
          "output_type": "stream",
          "name": "stdout",
          "text": [
            "Looking in indexes: https://pypi.org/simple, https://us-python.pkg.dev/colab-wheels/public/simple/\n",
            "Collecting kmodes\n",
            "  Downloading kmodes-0.12.2-py2.py3-none-any.whl (20 kB)\n",
            "Requirement already satisfied: scipy>=0.13.3 in /usr/local/lib/python3.8/dist-packages (from kmodes) (1.7.3)\n",
            "Requirement already satisfied: numpy>=1.10.4 in /usr/local/lib/python3.8/dist-packages (from kmodes) (1.21.6)\n",
            "Requirement already satisfied: scikit-learn>=0.22.0 in /usr/local/lib/python3.8/dist-packages (from kmodes) (1.0.2)\n",
            "Requirement already satisfied: joblib>=0.11 in /usr/local/lib/python3.8/dist-packages (from kmodes) (1.2.0)\n",
            "Requirement already satisfied: threadpoolctl>=2.0.0 in /usr/local/lib/python3.8/dist-packages (from scikit-learn>=0.22.0->kmodes) (3.1.0)\n",
            "Installing collected packages: kmodes\n",
            "Successfully installed kmodes-0.12.2\n"
          ]
        }
      ]
    },
    {
      "cell_type": "code",
      "execution_count": null,
      "metadata": {
        "id": "mh-cNKBSxcoM"
      },
      "outputs": [],
      "source": [
        "import numpy as np\n",
        "import pandas as pd \n",
        "import xgboost as xgb\n",
        "\n",
        "import matplotlib.pyplot as plt\n",
        "import seaborn as sns               \n",
        "%matplotlib inline\n",
        "sns.set()\n",
        "\n",
        "# from kmodes.kprototypes import KPrototypes\n",
        "from sklearn.preprocessing import LabelEncoder\n",
        "\n",
        "from sklearn.metrics import auc, accuracy_score, confusion_matrix, mean_squared_error, f1_score\n",
        "from sklearn.model_selection import cross_val_score, GridSearchCV, KFold, RandomizedSearchCV, train_test_split"
      ]
    },
    {
      "cell_type": "code",
      "source": [
        "from google.colab import drive\n",
        "drive.mount('/content/drive')"
      ],
      "metadata": {
        "colab": {
          "base_uri": "https://localhost:8080/"
        },
        "id": "OzmXvbEvxv4A",
        "outputId": "876a27d5-b44b-4023-b0da-8829a2f02f61"
      },
      "execution_count": null,
      "outputs": [
        {
          "output_type": "stream",
          "name": "stdout",
          "text": [
            "Mounted at /content/drive\n"
          ]
        }
      ]
    },
    {
      "cell_type": "code",
      "source": [
        "\n",
        "train_data = pd.read_csv('drive/MyDrive/scotia_data/train_ScotiaDSD.csv')\n",
        "# train_data_unsoup = train_data.drop(['TRANSACTION_ID', 'USER_AGENT', 'CITY'], axis=1)\n",
        "\n",
        "l_e = LabelEncoder()\n",
        "\n",
        "train_data['EVENT_TIME'] = train_data['EVENT_TIME'].apply(lambda x: (int(x.split(':')[0]) * 60) + int(x.split(':')[1]))\n",
        "train_data['USER_AGENT'].fillna(\"unk\", inplace=True)\n",
        "train_data['CITY'].fillna(\"unk\", inplace=True)\n",
        "train_data['USER_AGENT'] = l_e.fit_transform(train_data['USER_AGENT'])\n",
        "train_data['CITY'] = l_e.fit_transform(train_data['CITY'])\n",
        "train_data['FRAUD_FLAG'] = train_data['FRAUD_FLAG'].astype(int)\n",
        "train_data.drop(['TRANSACTION_ID'], axis=1, inplace=True)\n",
        "\n",
        "train_X = train_data.loc[:, train_data.columns != 'FRAUD_FLAG']\n",
        "train_Y = train_data['FRAUD_FLAG']"
      ],
      "metadata": {
        "id": "5jl2oaN-yqZZ"
      },
      "execution_count": null,
      "outputs": []
    },
    {
      "cell_type": "code",
      "source": [
        "X_train, X_test, y_train, y_test = train_test_split(\n",
        "...     train_X, train_Y, test_size=0.2, random_state=42, stratify=train_Y)"
      ],
      "metadata": {
        "id": "PSItdELUQ1Zq"
      },
      "execution_count": null,
      "outputs": []
    },
    {
      "cell_type": "code",
      "source": [
        "xgb_model = xgb.XGBClassifier(objective=\"binary:logistic\", max_depth=3, n_estimators=200, random_state=42)\n",
        "\n",
        "xgb_model.fit(X_train, y_train)"
      ],
      "metadata": {
        "id": "F2cHgoVpF8LE",
        "colab": {
          "base_uri": "https://localhost:8080/"
        },
        "outputId": "0e223cc4-3bf1-4412-d54d-2da4c7a605e9"
      },
      "execution_count": null,
      "outputs": [
        {
          "output_type": "execute_result",
          "data": {
            "text/plain": [
              "XGBClassifier(n_estimators=200, random_state=42)"
            ]
          },
          "metadata": {},
          "execution_count": 125
        }
      ]
    },
    {
      "cell_type": "code",
      "source": [
        "y_pred = xgb_model.predict(X_test)\n",
        "y_probs = xgb_model.predict_proba(X_test)\n",
        "\n",
        "print(f1_score(y_test, y_pred))"
      ],
      "metadata": {
        "colab": {
          "base_uri": "https://localhost:8080/"
        },
        "id": "gn-0hYMkRprg",
        "outputId": "b194ccf9-e85f-47f9-d1fc-2e95099ac808"
      },
      "execution_count": null,
      "outputs": [
        {
          "output_type": "stream",
          "name": "stdout",
          "text": [
            "0.497622820919176\n"
          ]
        }
      ]
    },
    {
      "cell_type": "code",
      "source": [
        "import warnings\n",
        "\n",
        "pd.set_option('display.max_rows', 1000)\n",
        "# pd.options.mode.chained_assignment = None\n",
        "warnings.filterwarnings(\"ignore\")"
      ],
      "metadata": {
        "id": "loawYamyxrwe"
      },
      "execution_count": null,
      "outputs": []
    }
  ]
}