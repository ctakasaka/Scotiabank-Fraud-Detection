{
  "cells": [
    {
      "cell_type": "code",
      "execution_count": 2,
      "metadata": {},
      "outputs": [
        {
          "name": "stdout",
          "output_type": "stream",
          "text": [
            "^C\n",
            "Note: you may need to restart the kernel to use updated packages.\n"
          ]
        },
        {
          "name": "stdout",
          "output_type": "stream",
          "text": [
            "Collecting xgboost\n",
            "  Downloading xgboost-1.7.3-py3-none-win_amd64.whl (89.1 MB)\n",
            "Requirement already satisfied: scipy in c:\\users\\cutha\\anaconda3\\lib\\site-packages (from xgboost) (1.9.3)\n",
            "Requirement already satisfied: numpy in c:\\users\\cutha\\anaconda3\\lib\\site-packages (from xgboost) (1.21.5)\n",
            "Installing collected packages: xgboost\n",
            "Successfully installed xgboost-1.7.3\n"
          ]
        }
      ],
      "source": [
        "%pip install xgboost"
      ]
    },
    {
      "cell_type": "code",
      "execution_count": 3,
      "metadata": {
        "id": "mh-cNKBSxcoM"
      },
      "outputs": [],
      "source": [
        "import numpy as np\n",
        "import pandas as pd \n",
        "import xgboost as xgb\n",
        "\n",
        "import matplotlib.pyplot as plt\n",
        "import seaborn as sns               \n",
        "%matplotlib inline\n",
        "sns.set()\n",
        "\n",
        "from sklearn.preprocessing import LabelEncoder\n",
        "from sklearn.metrics import auc, accuracy_score, confusion_matrix, mean_squared_error, f1_score\n",
        "from sklearn.model_selection import cross_val_score, GridSearchCV, KFold, RandomizedSearchCV, train_test_split"
      ]
    },
    {
      "cell_type": "code",
      "execution_count": null,
      "metadata": {
        "id": "5jl2oaN-yqZZ"
      },
      "outputs": [],
      "source": [
        "\n",
        "train_data = pd.read_csv('drive/MyDrive/scotia_data/train_ScotiaDSD.csv')\n",
        "# train_data_unsoup = train_data.drop(['TRANSACTION_ID', 'USER_AGENT', 'CITY'], axis=1)\n",
        "\n",
        "l_e = LabelEncoder()\n",
        "\n",
        "train_data['EVENT_TIME'] = train_data['EVENT_TIME'].apply(lambda x: (int(x.split(':')[0]) * 60) + int(x.split(':')[1]))\n",
        "train_data['USER_AGENT'].fillna(\"unk\", inplace=True)\n",
        "train_data['CITY'].fillna(\"unk\", inplace=True)\n",
        "train_data['USER_AGENT'] = l_e.fit_transform(train_data['USER_AGENT'])\n",
        "train_data['CITY'] = l_e.fit_transform(train_data['CITY'])\n",
        "train_data['FRAUD_FLAG'] = train_data['FRAUD_FLAG'].astype(int)\n",
        "train_data.drop(['TRANSACTION_ID'], axis=1, inplace=True)\n",
        "\n",
        "train_X = train_data.loc[:, train_data.columns != 'FRAUD_FLAG']\n",
        "train_Y = train_data['FRAUD_FLAG']"
      ]
    },
    {
      "cell_type": "code",
      "execution_count": null,
      "metadata": {
        "id": "PSItdELUQ1Zq"
      },
      "outputs": [],
      "source": [
        "X_train, X_test, y_train, y_test = train_test_split(\n",
        "...     train_X, train_Y, test_size=0.2, random_state=42, stratify=train_Y)"
      ]
    },
    {
      "cell_type": "code",
      "execution_count": null,
      "metadata": {
        "colab": {
          "base_uri": "https://localhost:8080/"
        },
        "id": "F2cHgoVpF8LE",
        "outputId": "0e223cc4-3bf1-4412-d54d-2da4c7a605e9"
      },
      "outputs": [
        {
          "data": {
            "text/plain": [
              "XGBClassifier(n_estimators=200, random_state=42)"
            ]
          },
          "execution_count": 125,
          "metadata": {},
          "output_type": "execute_result"
        }
      ],
      "source": [
        "xgb_model = xgb.XGBClassifier(objective=\"binary:logistic\", max_depth=3, n_estimators=200, random_state=42)\n",
        "\n",
        "xgb_model.fit(X_train, y_train)"
      ]
    },
    {
      "cell_type": "code",
      "execution_count": null,
      "metadata": {
        "colab": {
          "base_uri": "https://localhost:8080/"
        },
        "id": "gn-0hYMkRprg",
        "outputId": "b194ccf9-e85f-47f9-d1fc-2e95099ac808"
      },
      "outputs": [
        {
          "name": "stdout",
          "output_type": "stream",
          "text": [
            "0.497622820919176\n"
          ]
        }
      ],
      "source": [
        "y_pred = xgb_model.predict(X_test)\n",
        "y_probs = xgb_model.predict_proba(X_test)\n",
        "\n",
        "print(f1_score(y_test, y_pred))"
      ]
    },
    {
      "cell_type": "code",
      "execution_count": null,
      "metadata": {
        "id": "loawYamyxrwe"
      },
      "outputs": [],
      "source": [
        "import warnings\n",
        "\n",
        "pd.set_option('display.max_rows', 1000)\n",
        "# pd.options.mode.chained_assignment = None\n",
        "warnings.filterwarnings(\"ignore\")"
      ]
    }
  ],
  "metadata": {
    "colab": {
      "provenance": []
    },
    "kernelspec": {
      "display_name": "base",
      "language": "python",
      "name": "python3"
    },
    "language_info": {
      "codemirror_mode": {
        "name": "ipython",
        "version": 3
      },
      "file_extension": ".py",
      "mimetype": "text/x-python",
      "name": "python",
      "nbconvert_exporter": "python",
      "pygments_lexer": "ipython3",
      "version": "3.9.12"
    },
    "vscode": {
      "interpreter": {
        "hash": "57df0e8a706567fbad738932152665512194604b40be64c8bc098a8d8c737a81"
      }
    }
  },
  "nbformat": 4,
  "nbformat_minor": 0
}
