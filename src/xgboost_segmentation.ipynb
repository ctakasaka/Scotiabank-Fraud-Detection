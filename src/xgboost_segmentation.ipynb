{
  "cells": [
    {
      "attachments": {},
      "cell_type": "markdown",
      "metadata": {},
      "source": [
        "### Required Imports"
      ]
    },
    {
      "cell_type": "code",
      "execution_count": 1,
      "metadata": {
        "id": "mh-cNKBSxcoM"
      },
      "outputs": [],
      "source": [
        "import numpy as np\n",
        "import pandas as pd \n",
        "import xgboost as xgb\n",
        "\n",
        "import matplotlib.pyplot as plt\n",
        "import seaborn as sns               \n",
        "%matplotlib inline\n",
        "sns.set()\n",
        "\n",
        "from sklearn.preprocessing import LabelEncoder\n",
        "from sklearn.metrics import auc, accuracy_score, confusion_matrix, mean_squared_error, f1_score\n",
        "from sklearn.model_selection import cross_val_score, GridSearchCV, KFold, RandomizedSearchCV, train_test_split"
      ]
    },
    {
      "attachments": {},
      "cell_type": "markdown",
      "metadata": {},
      "source": [
        "### Initial Data Cleaning & Splitting"
      ]
    },
    {
      "cell_type": "code",
      "execution_count": 111,
      "metadata": {
        "id": "5jl2oaN-yqZZ"
      },
      "outputs": [],
      "source": [
        "\n",
        "train_data = pd.read_csv('../scotia_data/train_ScotiaDSD.csv')\n",
        "\n",
        "l_e = LabelEncoder()\n",
        "\n",
        "# translating time to a continuous variable\n",
        "train_data['EVENT_TIME'] = train_data['EVENT_TIME'].apply(lambda x: (int(x.split(':')[0]) * 60) + int(x.split(':')[1]))\n",
        "\n",
        "# allowing for the use of sparse variables in cases where it is provided\n",
        "train_data['USER_AGENT'].fillna(\"unk\", inplace=True)\n",
        "train_data['USER_AGENT'] = l_e.fit_transform(train_data['USER_AGENT'])\n",
        "train_data['CITY'].fillna(\"unk\", inplace=True)\n",
        "train_data['CITY'] = l_e.fit_transform(train_data['CITY'])\n",
        "\n",
        "# want the label to be int, not float\n",
        "train_data['FRAUD_FLAG'] = train_data['FRAUD_FLAG'].astype(int)\n",
        "train_data.drop(['TRANSACTION_ID'], axis=1, inplace=True)"
      ]
    },
    {
      "cell_type": "code",
      "execution_count": 112,
      "metadata": {},
      "outputs": [],
      "source": [
        "# trying to set all categorical variables\n",
        "categorical_vars = ['CITY', 'USER_AGENT']\n",
        "for col in train_data.columns:\n",
        "    # all flags should be considered categorical\n",
        "    if 'FLAG' in col:\n",
        "        categorical_vars.append(col)\n",
        "\n",
        "    # all one-hot features should be considered categorical\n",
        "    elif len(train_data[col].unique()) == 2:\n",
        "        categorical_vars.append(col)\n",
        "    \n",
        "train_data = train_data.loc[:, categorical_vars].astype(\"category\")\n",
        "data_X = train_data.loc[:, train_data.columns != 'FRAUD_FLAG']\n",
        "data_y = train_data['FRAUD_FLAG']"
      ]
    },
    {
      "cell_type": "code",
      "execution_count": 113,
      "metadata": {
        "id": "PSItdELUQ1Zq"
      },
      "outputs": [],
      "source": [
        "# stratified train-test split\n",
        "train_X, test_X, train_y, test_y = train_test_split(data_X, data_y, test_size=0.2, random_state=42, stratify=data_y)"
      ]
    },
    {
      "attachments": {},
      "cell_type": "markdown",
      "metadata": {},
      "source": [
        "### Testing Data Segmentation"
      ]
    },
    {
      "cell_type": "code",
      "execution_count": 87,
      "metadata": {},
      "outputs": [],
      "source": [
        "# segment on card present flag (separate physical & online/phone purchases)\n",
        "online_purchases = train_data[train_data['CARD_NOT_PRESENT'] == 1]\n",
        "online_purchases_X = online_purchases.loc[:, online_purchases.columns != 'FRAUD_FLAG']\n",
        "online_purchases_y = online_purchases['FRAUD_FLAG']\n",
        "\n",
        "# stratified train-test split\n",
        "online_train_X, online_test_X, online_train_y, online_test_y = train_test_split(online_purchases_X, online_purchases_y, test_size=0.2, random_state=42, stratify=online_purchases_y)"
      ]
    },
    {
      "attachments": {},
      "cell_type": "markdown",
      "metadata": {},
      "source": [
        "### Training XGBoost on the Entire Dataset"
      ]
    },
    {
      "cell_type": "code",
      "execution_count": 116,
      "metadata": {
        "colab": {
          "base_uri": "https://localhost:8080/"
        },
        "id": "F2cHgoVpF8LE",
        "outputId": "0e223cc4-3bf1-4412-d54d-2da4c7a605e9"
      },
      "outputs": [
        {
          "data": {
            "text/plain": [
              "XGBClassifier(base_score=None, booster=None, callbacks=None,\n",
              "              colsample_bylevel=None, colsample_bynode=None,\n",
              "              colsample_bytree=None, early_stopping_rounds=None,\n",
              "              enable_categorical=True, eval_metric=None, feature_types=None,\n",
              "              gamma=None, gpu_id=None, grow_policy=None, importance_type=None,\n",
              "              interaction_constraints=None, learning_rate=None, max_bin=None,\n",
              "              max_cat_threshold=None, max_cat_to_onehot=None,\n",
              "              max_delta_step=None, max_depth=3, max_leaves=None,\n",
              "              min_child_weight=None, missing=nan, monotone_constraints=None,\n",
              "              n_estimators=800, n_jobs=None, num_parallel_tree=None,\n",
              "              predictor=None, random_state=42, ...)"
            ]
          },
          "execution_count": 116,
          "metadata": {},
          "output_type": "execute_result"
        }
      ],
      "source": [
        "xgb_model = xgb.XGBClassifier(tree_method=\"hist\", max_depth=3, n_estimators=800, random_state=42, enable_categorical=True)\n",
        "\n",
        "xgb_model.fit(train_X, train_y)"
      ]
    },
    {
      "cell_type": "code",
      "execution_count": 117,
      "metadata": {
        "colab": {
          "base_uri": "https://localhost:8080/"
        },
        "id": "gn-0hYMkRprg",
        "outputId": "b194ccf9-e85f-47f9-d1fc-2e95099ac808"
      },
      "outputs": [
        {
          "name": "stdout",
          "output_type": "stream",
          "text": [
            "0.16153846153846155\n",
            "category\n"
          ]
        }
      ],
      "source": [
        "y_pred = xgb_model.predict(test_X)\n",
        "y_probs = xgb_model.predict_proba(test_X)\n",
        "print(f1_score(test_y, y_pred))"
      ]
    },
    {
      "cell_type": "code",
      "execution_count": null,
      "metadata": {
        "id": "loawYamyxrwe"
      },
      "outputs": [],
      "source": [
        "import warnings\n",
        "\n",
        "pd.set_option('display.max_rows', 1000)\n",
        "# pd.options.mode.chained_assignment = None\n",
        "warnings.filterwarnings(\"ignore\")"
      ]
    }
  ],
  "metadata": {
    "colab": {
      "provenance": []
    },
    "kernelspec": {
      "display_name": "base",
      "language": "python",
      "name": "python3"
    },
    "language_info": {
      "codemirror_mode": {
        "name": "ipython",
        "version": 3
      },
      "file_extension": ".py",
      "mimetype": "text/x-python",
      "name": "python",
      "nbconvert_exporter": "python",
      "pygments_lexer": "ipython3",
      "version": "3.9.12"
    },
    "vscode": {
      "interpreter": {
        "hash": "57df0e8a706567fbad738932152665512194604b40be64c8bc098a8d8c737a81"
      }
    }
  },
  "nbformat": 4,
  "nbformat_minor": 0
}
